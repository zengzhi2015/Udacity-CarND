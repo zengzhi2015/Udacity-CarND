{
 "cells": [
  {
   "cell_type": "markdown",
   "metadata": {},
   "source": [
    "# Advanced Lane Finding Project\n",
    "\n",
    "The goals / steps of this project are the following:\n",
    "\n",
    "* Compute the camera calibration matrix and distortion coefficients given a set of chessboard images.\n",
    "* Apply a distortion correction to raw images.\n",
    "* Use color transforms, gradients, etc., to create a thresholded binary image.\n",
    "* Apply a perspective transform to rectify binary image (\"birds-eye view\").\n",
    "* Detect lane pixels and fit to find the lane boundary.\n",
    "* Determine the curvature of the lane and vehicle position with respect to center.\n",
    "* Warp the detected lane boundaries back onto the original image.\n",
    "* Output visual display of the lane boundaries and numerical estimation of lane curvature and vehicle position.\n",
    "\n",
    "---"
   ]
  },
  {
   "cell_type": "markdown",
   "metadata": {},
   "source": [
    "## I. Camera Calibration\n",
    "\n",
    "This section shows the steps to unwarp an image with lens and perspective distortions. These steps are:\n",
    "\n",
    "* Compute the camera calibration matrix and distortion coefficients given a set of chessboard images\n",
    "* Apply a distortion correction to raw images\n",
    "* Calculate the perspective transform according to the corners of undistorted images and some domain knowllege\n",
    "* Use cv2.warpPerspective() to warp images to a top-down view"
   ]
  },
  {
   "cell_type": "code",
   "execution_count": 1,
   "metadata": {
    "collapsed": true
   },
   "outputs": [],
   "source": [
    "import numpy as np\n",
    "import cv2\n",
    "import glob\n",
    "import matplotlib.pyplot as plt\n",
    "%matplotlib qt"
   ]
  },
  {
   "cell_type": "markdown",
   "metadata": {},
   "source": [
    "### 1.1 Compute the camera calibration matrix and distortion coefficients"
   ]
  },
  {
   "cell_type": "markdown",
   "metadata": {},
   "source": [
    "#### 1.1.1 Prepare object points and image points"
   ]
  },
  {
   "cell_type": "code",
   "execution_count": 2,
   "metadata": {
    "collapsed": true
   },
   "outputs": [],
   "source": [
    "# Set the number of the chessboard corners\n",
    "nx = 9\n",
    "ny = 6"
   ]
  },
  {
   "cell_type": "code",
   "execution_count": 3,
   "metadata": {
    "collapsed": true
   },
   "outputs": [],
   "source": [
    "# Prepare object points, like (0,0,0), (1,0,0), (2,0,0) ....,(6,5,0)\n",
    "objp = np.zeros((ny*nx,3), np.float32)\n",
    "objp[:,:2] = np.mgrid[0:nx,0:ny].T.reshape(-1,2)"
   ]
  },
  {
   "cell_type": "code",
   "execution_count": 4,
   "metadata": {
    "collapsed": true
   },
   "outputs": [],
   "source": [
    "# Initialize arrays to store object points and image points from all the images.\n",
    "objpoints = [] # 3d points in real world space\n",
    "imgpoints = [] # 2d points in image plane."
   ]
  },
  {
   "cell_type": "code",
   "execution_count": 5,
   "metadata": {
    "collapsed": true
   },
   "outputs": [],
   "source": [
    "# Make a list of calibration images\n",
    "images = glob.glob('./camera_cal/calibration*.jpg')"
   ]
  },
  {
   "cell_type": "code",
   "execution_count": 6,
   "metadata": {
    "collapsed": false
   },
   "outputs": [],
   "source": [
    "# Step through the list and search for chessboard corners\n",
    "for fname in images:\n",
    "    img = cv2.imread(fname)\n",
    "    if img.dtype != 'uint8':\n",
    "        img = np.uint8(img*255)\n",
    "    gray = cv2.cvtColor(img,cv2.COLOR_BGR2GRAY)\n",
    "\n",
    "    # Find the chessboard corners\n",
    "    ret, corners = cv2.findChessboardCorners(gray, (9,6),None)\n",
    "\n",
    "    # If found, add object points, image points\n",
    "    if ret == True:\n",
    "        objpoints.append(objp)\n",
    "        imgpoints.append(corners)\n",
    "\n",
    "        # Draw and display the corners\n",
    "        img = cv2.drawChessboardCorners(img, (9,6), corners, ret)\n",
    "        cv2.imshow('img',img)\n",
    "        cv2.waitKey(200)\n",
    "        \n",
    "cv2.destroyAllWindows()"
   ]
  },
  {
   "cell_type": "markdown",
   "metadata": {},
   "source": [
    "#### 1.1.2. Calculate the camera matrix and distortion coefficients"
   ]
  },
  {
   "cell_type": "code",
   "execution_count": 7,
   "metadata": {
    "collapsed": false
   },
   "outputs": [],
   "source": [
    "# Step through the list and search for chessboard corners use the function, cv2.calibrateCamera() \n",
    "# to calculate the camera matrix, distortion coefficients, rotation, and translation vectors etc.\n",
    "ret, mtx, dist, rvecs, tvecs = cv2.calibrateCamera(objpoints, imgpoints, gray.shape[::-1],None,None)"
   ]
  },
  {
   "cell_type": "markdown",
   "metadata": {},
   "source": [
    "### 1.2. Correct distortion"
   ]
  },
  {
   "cell_type": "markdown",
   "metadata": {},
   "source": [
    "#### 1.2.1. Define a function to undistort an image"
   ]
  },
  {
   "cell_type": "code",
   "execution_count": 8,
   "metadata": {
    "collapsed": true
   },
   "outputs": [],
   "source": [
    "def img_undistort(img, mtx, dist):\n",
    "    '''\n",
    "    img: the raw image\n",
    "    mtx: the camara matrix\n",
    "    dist: the camara distortion coefficients\n",
    "    '''\n",
    "    if img.dtype != 'uint8':\n",
    "        img = np.uint8(img*255)\n",
    "    h, w = img.shape[:2]\n",
    "    # Refine the camera matrix based on a free scaling parameter using cv2.getOptimalNewCameraMatrix()\n",
    "    newcameramtx, roi=cv2.getOptimalNewCameraMatrix(mtx,dist,(w,h),1,(w,h))\n",
    "    # undistort\n",
    "    undist = cv2.undistort(img, mtx, dist, None, newcameramtx)\n",
    "    \n",
    "    return undist, roi"
   ]
  },
  {
   "cell_type": "markdown",
   "metadata": {},
   "source": [
    "#### 1.2.2. Test the calibration result using chessboard image"
   ]
  },
  {
   "cell_type": "code",
   "execution_count": 9,
   "metadata": {
    "collapsed": false
   },
   "outputs": [],
   "source": [
    "img = cv2.imread(images[0])\n",
    "dst, roi = img_undistort(img, mtx, dist)\n",
    "\n",
    "f, (ax1, ax2) = plt.subplots(1, 2, figsize=(24, 9))\n",
    "f.tight_layout()\n",
    "ax1.imshow(img)\n",
    "ax1.set_title('Original Image', fontsize=50)\n",
    "ax2.imshow(dst)\n",
    "ax2.set_title('Undistorted Image', fontsize=50)\n",
    "plt.subplots_adjust(left=0., right=1, top=0.9, bottom=0.)"
   ]
  },
  {
   "cell_type": "markdown",
   "metadata": {},
   "source": [
    "### 1.3. Calculate the perspective transform"
   ]
  },
  {
   "cell_type": "markdown",
   "metadata": {},
   "source": [
    "#### 1.3.1 Prepare src and dst points"
   ]
  },
  {
   "cell_type": "code",
   "execution_count": 10,
   "metadata": {
    "collapsed": true
   },
   "outputs": [],
   "source": [
    "img = cv2.imread(images[2])\n",
    "# Undistort using mtx and dist\n",
    "undist, roi = img_undistort(img, mtx, dist)\n",
    "# Convert to grayscale\n",
    "gray = cv2.cvtColor(undist, cv2.COLOR_BGR2GRAY)\n",
    "# Find the chessboard corners\n",
    "ret, corners = cv2.findChessboardCorners(gray, (nx, ny), None)\n",
    "# Given src and dst points\n",
    "src = np.float32([corners[0], corners[nx-1], corners[-1], corners[-nx]])\n",
    "# define 4 destination points dst = np.float32([[,],[,],[,],[,]])\n",
    "offset = 100\n",
    "dst = np.float32([[offset, offset], \n",
    "                  [offset+(nx-1)*offset-1, offset],\n",
    "                  [offset+(nx-1)*offset-1, offset+(ny-1)*offset-1], \n",
    "                  [offset, offset+(ny-1)*100-1]])"
   ]
  },
  {
   "cell_type": "markdown",
   "metadata": {},
   "source": [
    "#### 1.3.2 Get the transform matrix"
   ]
  },
  {
   "cell_type": "code",
   "execution_count": 11,
   "metadata": {
    "collapsed": true
   },
   "outputs": [],
   "source": [
    "# use cv2.getPerspectiveTransform() to get M, the transform matrix\n",
    "M = cv2.getPerspectiveTransform(src, dst)"
   ]
  },
  {
   "cell_type": "markdown",
   "metadata": {},
   "source": [
    "### 1.4. Warp images to a top-down view"
   ]
  },
  {
   "cell_type": "markdown",
   "metadata": {},
   "source": [
    "#### 1.4.1. Define a function to unwarp an image"
   ]
  },
  {
   "cell_type": "code",
   "execution_count": 12,
   "metadata": {
    "collapsed": true
   },
   "outputs": [],
   "source": [
    "def img_unwarp(undist, M, size):\n",
    "    '''\n",
    "    undist: undistorted image\n",
    "    M: the transform matrix\n",
    "    size: the size of the unwarped image\n",
    "    '''\n",
    "    if undist.dtype != 'uint8':\n",
    "        undist = np.uint8(img*255)\n",
    "    unwarped = cv2.warpPerspective(undist, M, size, flags=cv2.INTER_LINEAR)\n",
    "    \n",
    "    return unwarped"
   ]
  },
  {
   "cell_type": "markdown",
   "metadata": {},
   "source": [
    "#### 1.4.2. Test the function using chessboard image"
   ]
  },
  {
   "cell_type": "code",
   "execution_count": 13,
   "metadata": {
    "collapsed": false
   },
   "outputs": [
    {
     "data": {
      "text/plain": [
       "<matplotlib.text.Text at 0x11df562e8>"
      ]
     },
     "execution_count": 13,
     "metadata": {},
     "output_type": "execute_result"
    }
   ],
   "source": [
    "# use cv2.warpPerspective() to warp the image to a top-down view\n",
    "size = ((nx+1)*offset,(ny+1)*offset)\n",
    "unwarped = img_unwarp(undist, M, size)\n",
    "\n",
    "f, (ax1, ax2, ax3) = plt.subplots(1, 3, figsize=(21, 6))\n",
    "f.tight_layout()\n",
    "ax1.imshow(img)\n",
    "ax1.set_title('Original Image', fontsize=30)\n",
    "ax2.imshow(undist)\n",
    "ax2.set_title('Undistorted Image', fontsize=30)\n",
    "ax3.imshow(unwarped)\n",
    "ax3.set_title('Unwarped Image', fontsize=30)"
   ]
  },
  {
   "cell_type": "markdown",
   "metadata": {},
   "source": [
    "## II. Pipeline (single images)"
   ]
  },
  {
   "cell_type": "markdown",
   "metadata": {},
   "source": [
    "This section shows the steps for calculating the lane on a single image. These steps are:\n",
    "\n",
    "* Get a distortion-corrected image.\n",
    "* Used color transforms, gradients or other methods to create a thresholded binary image.\n",
    "* Performed a perspective transform to the binary image.\n",
    "* Identified lane-line pixels and fit their positions with a polynomial.\n",
    "* Calculated the radius of curvature of the lane and the position of the vehicle with respect to center.\n",
    "* Plot the result back down onto the road such that the lane area is identified clearly."
   ]
  },
  {
   "cell_type": "markdown",
   "metadata": {},
   "source": [
    "### 2.1 Create binary image"
   ]
  },
  {
   "cell_type": "code",
   "execution_count": 14,
   "metadata": {
    "collapsed": true
   },
   "outputs": [],
   "source": [
    "def SV_gray(img):\n",
    "    '''convert BGR to HSV and merge the SV channels'''\n",
    "    if img.dtype != 'uint8':\n",
    "        img = np.uint8(img*255)\n",
    "    hsv_img = cv2.cvtColor(img, cv2.COLOR_BGR2HSV)\n",
    "    s_channel = np.float64(hsv_img[:,:,1])\n",
    "    v_channel = np.float64(hsv_img[:,:,2])\n",
    "    gray = np.uint8((0.2*s_channel+v_channel)/1.2)\n",
    "    return gray"
   ]
  },
  {
   "cell_type": "markdown",
   "metadata": {},
   "source": [
    "#### 2.1.1 Filter on directional gradient"
   ]
  },
  {
   "cell_type": "code",
   "execution_count": 15,
   "metadata": {
    "collapsed": true
   },
   "outputs": [],
   "source": [
    "# Define a function that takes an image, gradient orientation,\n",
    "# and threshold min / max values.\n",
    "def abs_sobel_thresh(img, orient='x', sobel_kernel=3, abs_thresh=(0, 255)):\n",
    "    if img.dtype != 'uint8':\n",
    "        img = np.uint8(img*255)\n",
    "    # Convert to grayscale\n",
    "    gray = SV_gray(img)\n",
    "    # Apply x or y gradient with the OpenCV Sobel() function\n",
    "    # and take the absolute value\n",
    "    if orient == 'x':\n",
    "        abs_sobel = np.absolute(cv2.Sobel(gray, cv2.CV_64F, 1, 0, ksize=sobel_kernel))\n",
    "    if orient == 'y':\n",
    "        abs_sobel = np.absolute(cv2.Sobel(gray, cv2.CV_64F, 0, 1, ksize=sobel_kernel))\n",
    "    # Rescale back to 8 bit integer\n",
    "    scaled_sobel = np.uint8(255*abs_sobel/np.max(abs_sobel))\n",
    "    # Create a copy and apply the threshold\n",
    "    binary_output = np.uint8(np.zeros_like(scaled_sobel))\n",
    "    # Here I'm using inclusive (>=, <=) thresholds, but exclusive is ok too\n",
    "    binary_output[(scaled_sobel >= abs_thresh[0]) & (scaled_sobel <= abs_thresh[1])] = 255\n",
    "\n",
    "    # Return the result\n",
    "    return binary_output"
   ]
  },
  {
   "cell_type": "markdown",
   "metadata": {},
   "source": [
    "#### 2.1.2 Filter on the magnitude of the gradient"
   ]
  },
  {
   "cell_type": "code",
   "execution_count": 16,
   "metadata": {
    "collapsed": true
   },
   "outputs": [],
   "source": [
    "# Define a function to return the magnitude of the gradient\n",
    "# for a given sobel kernel size and threshold values\n",
    "def mag_thresh(img, sobel_kernel=3, mag_thresh=(0, 255)):\n",
    "    if img.dtype != 'uint8':\n",
    "        img = np.uint8(img*255)\n",
    "    # Convert to grayscale\n",
    "    gray = SV_gray(img)\n",
    "    # Take both Sobel x and y gradients\n",
    "    sobelx = cv2.Sobel(gray, cv2.CV_64F, 1, 0, ksize=sobel_kernel)\n",
    "    sobely = cv2.Sobel(gray, cv2.CV_64F, 0, 1, ksize=sobel_kernel)\n",
    "    # Calculate the gradient magnitude\n",
    "    gradmag = np.sqrt(sobelx**2 + sobely**2)\n",
    "    # Rescale to 8 bit\n",
    "    scale_factor = np.max(gradmag)/255 \n",
    "    gradmag = (gradmag/scale_factor).astype(np.uint8) \n",
    "    # Create a binary image of ones where threshold is met, zeros otherwise\n",
    "    binary_output = np.uint8(np.zeros_like(gradmag))\n",
    "    binary_output[(gradmag >= mag_thresh[0]) & (gradmag <= mag_thresh[1])] = 255\n",
    "\n",
    "    # Return the binary image\n",
    "    return binary_output"
   ]
  },
  {
   "cell_type": "markdown",
   "metadata": {},
   "source": [
    "#### 2.1.3 Filter on the direction of the gradient"
   ]
  },
  {
   "cell_type": "code",
   "execution_count": 17,
   "metadata": {
    "collapsed": true
   },
   "outputs": [],
   "source": [
    "# Define a function to threshold an image for a given range and Sobel kernel\n",
    "def dir_threshold(img, sobel_kernel=3, dir_thresh=(0, np.pi/2)):\n",
    "    if img.dtype != 'uint8':\n",
    "        img = np.uint8(img*255)\n",
    "    # Grayscale\n",
    "    gray = SV_gray(img)\n",
    "    # Calculate the x and y gradients\n",
    "    sobelx = cv2.Sobel(gray, cv2.CV_64F, 1, 0, ksize=sobel_kernel)\n",
    "    sobely = cv2.Sobel(gray, cv2.CV_64F, 0, 1, ksize=sobel_kernel)\n",
    "    # Take the absolute value of the gradient direction, \n",
    "    # apply a threshold, and create a binary image result\n",
    "    absgraddir = np.arctan2(np.absolute(sobely), np.absolute(sobelx))\n",
    "    binary_output =  np.uint8(np.zeros_like(absgraddir))\n",
    "    binary_output[(absgraddir >= dir_thresh[0]) & (absgraddir <= dir_thresh[1])] = 255\n",
    "\n",
    "    # Return the binary image\n",
    "    return binary_output"
   ]
  },
  {
   "cell_type": "markdown",
   "metadata": {},
   "source": [
    "#### 2.1.4 Filter on the S channel of the converted HSV image"
   ]
  },
  {
   "cell_type": "code",
   "execution_count": 18,
   "metadata": {
    "collapsed": true
   },
   "outputs": [],
   "source": [
    "# Define a function that thresholds the S-channel of HLS\n",
    "# Use exclusive lower bound (>) and inclusive upper (<=)\n",
    "def hls_threshold(img, hls_thresh=(0, 255)):\n",
    "    if img.dtype != 'uint8':\n",
    "        img = np.uint8(img*255)\n",
    "    # 1) Convert to HLS color space\n",
    "    hls = cv2.cvtColor(img, cv2.COLOR_RGB2HLS)\n",
    "    # 2) Apply a threshold to the S channel\n",
    "    s_channel = hls[:,:,2]\n",
    "    binary_output = np.uint8(np.zeros_like(s_channel))\n",
    "    binary_output[(s_channel >= hls_thresh[0]) & (s_channel <= hls_thresh[1])] = 255\n",
    "    # 3) Return a binary image of threshold result\n",
    "    return binary_output"
   ]
  },
  {
   "cell_type": "markdown",
   "metadata": {},
   "source": [
    "#### 2.1.5 Combining Thresholds"
   ]
  },
  {
   "cell_type": "code",
   "execution_count": 19,
   "metadata": {
    "collapsed": false
   },
   "outputs": [],
   "source": [
    "def combine_threshold(img, \n",
    "                      ksize=3, \n",
    "                      x_thresh=(0, 255), \n",
    "                      y_thresh=(0, 255), \n",
    "                      m_thresh=(0, 255), \n",
    "                      d_thresh=(0, np.pi/2), \n",
    "                      s_thresh=(0, 255)):\n",
    "    if img.dtype != 'uint8':\n",
    "        img = np.uint8(img*255)\n",
    "    # Apply each of the thresholding functions\n",
    "    gradx = abs_sobel_thresh(img, orient='x', sobel_kernel=ksize, abs_thresh=x_thresh)\n",
    "    grady = abs_sobel_thresh(img, orient='y', sobel_kernel=ksize, abs_thresh=y_thresh)\n",
    "    mag_binary = mag_thresh(img, sobel_kernel=ksize, mag_thresh=m_thresh)\n",
    "    dir_binary = dir_threshold(img, sobel_kernel=ksize, dir_thresh=d_thresh)\n",
    "    hls_binary = hls_threshold(img, hls_thresh=s_thresh)\n",
    "    # Combine each channel\n",
    "    combined = np.zeros_like(dir_binary)\n",
    "    combined[(gradx == 255) & \n",
    "             (grady == 255) & \n",
    "             (mag_binary == 255) & \n",
    "             (dir_binary == 255) & \n",
    "             (hls_binary == 255)] = 255\n",
    "    \n",
    "    # Return the binary image\n",
    "    return combined"
   ]
  },
  {
   "cell_type": "markdown",
   "metadata": {},
   "source": [
    "#### 2.1.6 Test the function using an image"
   ]
  },
  {
   "cell_type": "code",
   "execution_count": 20,
   "metadata": {
    "collapsed": true
   },
   "outputs": [],
   "source": [
    "import matplotlib.image as mpimg"
   ]
  },
  {
   "cell_type": "code",
   "execution_count": 22,
   "metadata": {
    "collapsed": false
   },
   "outputs": [],
   "source": [
    "# Read in an image and grayscale it\n",
    "image = mpimg.imread('./test_images/test2.jpg')"
   ]
  },
  {
   "cell_type": "code",
   "execution_count": 24,
   "metadata": {
    "collapsed": false
   },
   "outputs": [],
   "source": [
    "# Filter the image\n",
    "bin_img = combine_threshold(image, \n",
    "                            ksize=3, \n",
    "                            x_thresh=(0, 255), \n",
    "                            y_thresh=(0, 255), \n",
    "                            m_thresh=(40, 255), \n",
    "                            d_thresh=(np.pi/20, np.pi/2-np.pi/20), \n",
    "                            s_thresh=(10, 255))\n",
    "\n",
    "# Plot the result\n",
    "f, (ax1, ax2) = plt.subplots(1, 2, figsize=(24, 9))\n",
    "f.tight_layout()\n",
    "\n",
    "ax1.imshow(image)\n",
    "ax1.set_title('Original Image', fontsize=40)\n",
    "\n",
    "color_bin = np.dstack((bin_img, bin_img, bin_img))\n",
    "ax2.imshow(color_bin)\n",
    "ax2.set_title('Filtered Result', fontsize=40)\n",
    "plt.subplots_adjust(left=0., right=1, top=0.9, bottom=0.)"
   ]
  },
  {
   "cell_type": "markdown",
   "metadata": {},
   "source": [
    "### 2.2 Correct image distortion"
   ]
  },
  {
   "cell_type": "markdown",
   "metadata": {},
   "source": [
    "#### 2.2.1 Grayscale an image with straight lines"
   ]
  },
  {
   "cell_type": "code",
   "execution_count": 26,
   "metadata": {
    "collapsed": false
   },
   "outputs": [],
   "source": [
    "# Read in an image and grayscale it\n",
    "image = mpimg.imread('./test_images/straight_lines2.jpg')\n",
    "bin_img = combine_threshold(image, \n",
    "                            ksize=3, \n",
    "                            x_thresh=(0, 255), \n",
    "                            y_thresh=(0, 255), \n",
    "                            m_thresh=(40, 255), \n",
    "                            d_thresh=(np.pi/20, np.pi/2-np.pi/20), \n",
    "                            s_thresh=(10, 255))\n",
    "# Plot the result\n",
    "f, (ax1, ax2) = plt.subplots(1, 2, figsize=(24, 9))\n",
    "f.tight_layout()\n",
    "\n",
    "ax1.imshow(image)\n",
    "ax1.set_title('Original Image', fontsize=40)\n",
    "\n",
    "ax2.imshow(np.dstack((bin_img, bin_img, bin_img)))\n",
    "ax2.set_title('Filtered Result', fontsize=40)\n",
    "plt.subplots_adjust(left=0., right=1, top=0.9, bottom=0.)"
   ]
  },
  {
   "cell_type": "markdown",
   "metadata": {},
   "source": [
    "#### 2.2.2 Undistort the binary image"
   ]
  },
  {
   "cell_type": "code",
   "execution_count": 27,
   "metadata": {
    "collapsed": true
   },
   "outputs": [],
   "source": [
    "undist, roi = img_undistort(bin_img, mtx, dist)\n",
    "\n",
    "# Plot the result\n",
    "f, (ax1, ax2) = plt.subplots(1, 2, figsize=(24, 9))\n",
    "f.tight_layout()\n",
    "\n",
    "ax1.imshow(np.dstack((bin_img, bin_img, bin_img)))\n",
    "ax1.set_title('Filtered Image', fontsize=40)\n",
    "ax2.imshow(np.dstack((undist, undist, undist)))\n",
    "ax2.set_title('Undistorted Image', fontsize=40)\n",
    "plt.subplots_adjust(left=0., right=1, top=0.9, bottom=0.)"
   ]
  },
  {
   "cell_type": "markdown",
   "metadata": {},
   "source": [
    "#### 2.2.3 Identify four source points for perspective transform"
   ]
  },
  {
   "cell_type": "code",
   "execution_count": 28,
   "metadata": {
    "collapsed": true
   },
   "outputs": [],
   "source": [
    "# define 4 source points src = np.float32([[,],[,],[,],[,]])\n",
    "src = np.float32([[324,650], [1024,650], [712,450], [606,450]])\n",
    "# define 4 destination points dst = np.float32([[,],[,],[,],[,]])\n",
    "dst = np.float32([[color_bin.shape[1]/4,color_bin.shape[0]-1], \n",
    "                  [color_bin.shape[1]*3/4,color_bin.shape[0]-1], \n",
    "                  [color_bin.shape[1]*3/4,0], \n",
    "                  [color_bin.shape[1]/4,0]])"
   ]
  },
  {
   "cell_type": "markdown",
   "metadata": {},
   "source": [
    "#### 2.2.4 Get the transform matrix"
   ]
  },
  {
   "cell_type": "code",
   "execution_count": 29,
   "metadata": {
    "collapsed": true
   },
   "outputs": [],
   "source": [
    "M = cv2.getPerspectiveTransform(src, dst)"
   ]
  },
  {
   "cell_type": "markdown",
   "metadata": {},
   "source": [
    "#### 2.2.5 Unwarp the image"
   ]
  },
  {
   "cell_type": "code",
   "execution_count": 30,
   "metadata": {
    "collapsed": false
   },
   "outputs": [],
   "source": [
    "# use cv2.warpPerspective() to warp the image to a top-down view\n",
    "size = (undist.shape[1],undist.shape[0])\n",
    "unwarped = img_unwarp(undist, M, size)\n",
    "unwarped = cv2.medianBlur(unwarped,5)\n",
    "retval, unwarped = cv2.threshold(unwarped, 100, 255, cv2.THRESH_BINARY)\n",
    "\n",
    "f, (ax1, ax2) = plt.subplots(1, 2, figsize=(24, 9))\n",
    "f.tight_layout()\n",
    "\n",
    "undist_plus = np.dstack((undist, undist, undist))\n",
    "undist_plus = cv2.polylines(undist_plus,np.int32([src]),True,(255,0,0),2)\n",
    "ax1.imshow(undist_plus)\n",
    "ax1.set_title('Undistorted Image', fontsize=40)\n",
    "unwarped_plus = np.dstack((unwarped, unwarped, unwarped))\n",
    "unwarped_plus = cv2.polylines(unwarped_plus,np.int32([dst]),True,(255,0,0),2)\n",
    "ax2.imshow(unwarped_plus)\n",
    "ax2.set_title('Unwarped Image', fontsize=40)\n",
    "plt.subplots_adjust(left=0., right=1, top=0.9, bottom=0.)"
   ]
  },
  {
   "cell_type": "markdown",
   "metadata": {},
   "source": [
    "### 2.3 Identified lane-line pixels"
   ]
  },
  {
   "cell_type": "markdown",
   "metadata": {},
   "source": [
    "#### 2.3.1 Find peaks in the Histogram"
   ]
  },
  {
   "cell_type": "code",
   "execution_count": 31,
   "metadata": {
    "collapsed": false
   },
   "outputs": [
    {
     "data": {
      "text/plain": [
       "[<matplotlib.lines.Line2D at 0x120f6b4a8>]"
      ]
     },
     "execution_count": 31,
     "metadata": {},
     "output_type": "execute_result"
    }
   ],
   "source": [
    "# take a histogram along all the columns in the lower half of the image\n",
    "histogram = np.sum(unwarped[np.int32(unwarped.shape[0]/2):,:], axis=0)\n",
    "plt.plot(histogram)"
   ]
  },
  {
   "cell_type": "code",
   "execution_count": 32,
   "metadata": {
    "collapsed": true
   },
   "outputs": [],
   "source": [
    "# Find the peak of the left and right halves of the histogram\n",
    "# These will be the starting point for the left and right lines\n",
    "midpoint = np.int(histogram.shape[0]/2)\n",
    "leftx_base = np.argmax(histogram[:midpoint])\n",
    "rightx_base = np.argmax(histogram[midpoint:]) + midpoint"
   ]
  },
  {
   "cell_type": "markdown",
   "metadata": {},
   "source": [
    "#### 2.3.2 Implement Sliding Windows"
   ]
  },
  {
   "cell_type": "code",
   "execution_count": 33,
   "metadata": {
    "collapsed": true
   },
   "outputs": [],
   "source": [
    "# Create an output image to draw on and  visualize the result\n",
    "out_img = np.dstack((unwarped, unwarped, unwarped))\n",
    "# Choose the number of sliding windows\n",
    "nwindows = 9\n",
    "# Set height of windows\n",
    "window_height = np.int(unwarped.shape[0]/nwindows)\n",
    "# Identify the x and y positions of all nonzero pixels in the image\n",
    "nonzero = unwarped.nonzero()\n",
    "nonzeroy = np.array(nonzero[0])\n",
    "nonzerox = np.array(nonzero[1])\n",
    "# Current positions to be updated for each window\n",
    "leftx_current = leftx_base\n",
    "rightx_current = rightx_base\n",
    "# Set the width of the windows +/- margin\n",
    "margin = 100\n",
    "# Set minimum number of pixels found to recenter window\n",
    "minpix = 20\n",
    "# Create empty lists to receive left and right lane pixel indices\n",
    "left_lane_inds = []\n",
    "right_lane_inds = []"
   ]
  },
  {
   "cell_type": "code",
   "execution_count": 34,
   "metadata": {
    "collapsed": true
   },
   "outputs": [],
   "source": [
    "# Step through the windows one by one\n",
    "for window in range(nwindows):\n",
    "    # Identify window boundaries in x and y (and right and left)\n",
    "    win_y_low = unwarped.shape[0] - (window+1)*window_height\n",
    "    win_y_high = unwarped.shape[0] - window*window_height\n",
    "    win_xleft_low = leftx_current - margin\n",
    "    win_xleft_high = leftx_current + margin\n",
    "    win_xright_low = rightx_current - margin\n",
    "    win_xright_high = rightx_current + margin\n",
    "    # Draw the windows on the visualization image\n",
    "    cv2.rectangle(out_img,(win_xleft_low,win_y_low),(win_xleft_high,win_y_high),(0,255,0), 2) \n",
    "    cv2.rectangle(out_img,(win_xright_low,win_y_low),(win_xright_high,win_y_high),(0,255,0), 2) \n",
    "    # Identify the nonzero pixels in x and y within the window\n",
    "    good_left_inds = ((nonzeroy >= win_y_low) & \n",
    "                      (nonzeroy < win_y_high) & \n",
    "                      (nonzerox >= win_xleft_low) & \n",
    "                      (nonzerox < win_xleft_high)).nonzero()[0]\n",
    "    good_right_inds = ((nonzeroy >= win_y_low) & \n",
    "                       (nonzeroy < win_y_high) & \n",
    "                       (nonzerox >= win_xright_low) & \n",
    "                       (nonzerox < win_xright_high)).nonzero()[0]\n",
    "    # Append these indices to the lists\n",
    "    left_lane_inds.append(good_left_inds)\n",
    "    right_lane_inds.append(good_right_inds)\n",
    "    # If you found > minpix pixels, recenter next window on their mean position\n",
    "    if len(good_left_inds) > minpix:\n",
    "        leftx_current = np.int(np.mean(nonzerox[good_left_inds]))\n",
    "    if len(good_right_inds) > minpix:        \n",
    "        rightx_current = np.int(np.mean(nonzerox[good_right_inds]))"
   ]
  },
  {
   "cell_type": "markdown",
   "metadata": {},
   "source": [
    "### 2.4 Fit lane-line pixels positions with a polynomial"
   ]
  },
  {
   "cell_type": "code",
   "execution_count": 35,
   "metadata": {
    "collapsed": true
   },
   "outputs": [],
   "source": [
    "# Concatenate the arrays of indices\n",
    "left_lane_inds = np.concatenate(left_lane_inds)\n",
    "right_lane_inds = np.concatenate(right_lane_inds)\n",
    "\n",
    "# Extract left and right line pixel positions\n",
    "leftx = nonzerox[left_lane_inds]\n",
    "lefty = nonzeroy[left_lane_inds] \n",
    "rightx = nonzerox[right_lane_inds]\n",
    "righty = nonzeroy[right_lane_inds] \n",
    "\n",
    "# Fit a second order polynomial to each\n",
    "left_fit = np.polyfit(lefty, leftx, 2)\n",
    "right_fit = np.polyfit(righty, rightx, 2)"
   ]
  },
  {
   "cell_type": "code",
   "execution_count": 36,
   "metadata": {
    "collapsed": false
   },
   "outputs": [
    {
     "data": {
      "text/plain": [
       "(720, 0)"
      ]
     },
     "execution_count": 36,
     "metadata": {},
     "output_type": "execute_result"
    }
   ],
   "source": [
    "# Generate x and y values for plotting\n",
    "ploty = np.linspace(0, unwarped.shape[0]-1, unwarped.shape[0] )\n",
    "left_fitx = left_fit[0]*ploty**2 + left_fit[1]*ploty + left_fit[2]\n",
    "right_fitx = right_fit[0]*ploty**2 + right_fit[1]*ploty + right_fit[2]\n",
    "\n",
    "out_img[nonzeroy[left_lane_inds], nonzerox[left_lane_inds]] = [255, 0, 0]\n",
    "out_img[nonzeroy[right_lane_inds], nonzerox[right_lane_inds]] = [0, 0, 255]\n",
    "plt.imshow(out_img)\n",
    "plt.plot(left_fitx, ploty, color='yellow')\n",
    "plt.plot(right_fitx, ploty, color='yellow')\n",
    "plt.xlim(0, 1280)\n",
    "plt.ylim(720, 0)"
   ]
  },
  {
   "cell_type": "markdown",
   "metadata": {},
   "source": [
    "### 2.5 Skip the sliding windows step"
   ]
  },
  {
   "cell_type": "code",
   "execution_count": 37,
   "metadata": {
    "collapsed": false
   },
   "outputs": [],
   "source": [
    "# Assume you now have a new warped binary image \n",
    "# from the next frame of video (also called \"binary_warped\")\n",
    "# It's now much easier to find line pixels!\n",
    "nonzero = unwarped.nonzero()\n",
    "nonzeroy = np.array(nonzero[0])\n",
    "nonzerox = np.array(nonzero[1])\n",
    "left_lane_inds = ((nonzerox > (left_fit[0]*(nonzeroy**2) + left_fit[1]*nonzeroy + left_fit[2] - margin)) & \n",
    "                  (nonzerox < (left_fit[0]*(nonzeroy**2) + left_fit[1]*nonzeroy + left_fit[2] + margin))) \n",
    "right_lane_inds = ((nonzerox > (right_fit[0]*(nonzeroy**2) + right_fit[1]*nonzeroy + right_fit[2] - margin)) & \n",
    "                   (nonzerox < (right_fit[0]*(nonzeroy**2) + right_fit[1]*nonzeroy + right_fit[2] + margin)))  \n",
    "\n",
    "# Again, extract left and right line pixel positions\n",
    "leftx = nonzerox[left_lane_inds]\n",
    "lefty = nonzeroy[left_lane_inds] \n",
    "rightx = nonzerox[right_lane_inds]\n",
    "righty = nonzeroy[right_lane_inds]\n",
    "# Fit a second order polynomial to each\n",
    "left_fit = np.polyfit(lefty, leftx, 2)\n",
    "right_fit = np.polyfit(righty, rightx, 2)\n",
    "# Generate x and y values for plotting\n",
    "ploty = np.linspace(0, unwarped.shape[0]-1, unwarped.shape[0] )\n",
    "left_fitx = left_fit[0]*ploty**2 + left_fit[1]*ploty + left_fit[2]\n",
    "right_fitx = right_fit[0]*ploty**2 + right_fit[1]*ploty + right_fit[2]"
   ]
  },
  {
   "cell_type": "code",
   "execution_count": 38,
   "metadata": {
    "collapsed": false
   },
   "outputs": [
    {
     "data": {
      "text/plain": [
       "(720, 0)"
      ]
     },
     "execution_count": 38,
     "metadata": {},
     "output_type": "execute_result"
    }
   ],
   "source": [
    "# Create an image to draw on and an image to show the selection window\n",
    "out_img = np.dstack((unwarped, unwarped, unwarped))\n",
    "window_img = np.zeros_like(out_img)\n",
    "# Color in left and right line pixels\n",
    "out_img[nonzeroy[left_lane_inds], nonzerox[left_lane_inds]] = [255, 0, 0]\n",
    "out_img[nonzeroy[right_lane_inds], nonzerox[right_lane_inds]] = [0, 0, 255]\n",
    "\n",
    "# Generate a polygon to illustrate the search window area\n",
    "# And recast the x and y points into usable format for cv2.fillPoly()\n",
    "left_line_window1 = np.array([np.transpose(np.vstack([left_fitx-margin, ploty]))])\n",
    "left_line_window2 = np.array([np.flipud(np.transpose(np.vstack([left_fitx+margin, ploty])))])\n",
    "left_line_pts = np.hstack((left_line_window1, left_line_window2))\n",
    "right_line_window1 = np.array([np.transpose(np.vstack([right_fitx-margin, ploty]))])\n",
    "right_line_window2 = np.array([np.flipud(np.transpose(np.vstack([right_fitx+margin, ploty])))])\n",
    "right_line_pts = np.hstack((right_line_window1, right_line_window2))\n",
    "\n",
    "# Draw the lane onto the warped blank image\n",
    "cv2.fillPoly(window_img, np.int_([left_line_pts]), (0, 255, 0))\n",
    "cv2.fillPoly(window_img, np.int_([right_line_pts]), (0, 255, 0))\n",
    "result = cv2.addWeighted(out_img, 1, window_img, 0.3, 0)\n",
    "plt.imshow(result)\n",
    "plt.plot(left_fitx, ploty, color='yellow')\n",
    "plt.plot(right_fitx, ploty, color='yellow')\n",
    "plt.xlim(0, 1280)\n",
    "plt.ylim(720, 0)"
   ]
  },
  {
   "cell_type": "markdown",
   "metadata": {},
   "source": [
    "### 2.6 Calculated the radius of curvature"
   ]
  },
  {
   "cell_type": "code",
   "execution_count": 39,
   "metadata": {
    "collapsed": false
   },
   "outputs": [
    {
     "name": "stdout",
     "output_type": "stream",
     "text": [
      "4341.7829328 m 24824.1472069 m\n"
     ]
    }
   ],
   "source": [
    "# Define conversions in x and y from pixels space to meters\n",
    "ym_per_pix = 30/720 # meters per pixel in y dimension\n",
    "xm_per_pix = 3.6/640 # meters per pixel in x dimension\n",
    "\n",
    "# Fit new polynomials to x,y in world space\n",
    "left_fit_cr = np.polyfit(ploty*ym_per_pix, left_fitx*xm_per_pix, 2)\n",
    "right_fit_cr = np.polyfit(ploty*ym_per_pix, right_fitx*xm_per_pix, 2)\n",
    "# Calculate the new radii of curvature\n",
    "y_eval = np.max(ploty)\n",
    "left_curverad = ((1 + (2*left_fit_cr[0]*y_eval*ym_per_pix + left_fit_cr[1])**2)**1.5) / np.absolute(2*left_fit_cr[0])\n",
    "right_curverad = ((1 + (2*right_fit_cr[0]*y_eval*ym_per_pix + right_fit_cr[1])**2)**1.5) / np.absolute(2*right_fit_cr[0])\n",
    "# Now our radius of curvature is in meters\n",
    "print(left_curverad, 'm', right_curverad, 'm')"
   ]
  },
  {
   "cell_type": "markdown",
   "metadata": {},
   "source": [
    "### 2.7 Calculated the position of the vehicle"
   ]
  },
  {
   "cell_type": "code",
   "execution_count": 40,
   "metadata": {
    "collapsed": false
   },
   "outputs": [
    {
     "name": "stdout",
     "output_type": "stream",
     "text": [
      "320.592036163 959.657366926\n",
      "The car is -0.000701446188426 m from the center of line.\n"
     ]
    }
   ],
   "source": [
    "# Calculate the position of the left line and right line at the bottom of the image\n",
    "left_center_x = left_fit[0]*unwarped.shape[0]**2 + left_fit[1]*unwarped.shape[0] + left_fit[2]\n",
    "right_center_x = right_fit[0]*unwarped.shape[0]**2 + right_fit[1]*unwarped.shape[0] + right_fit[2]\n",
    "# conversions from pixels space to meters and calculate the offset from the center\n",
    "offset_cr = (unwarped.shape[1]/2-(left_center_x+right_center_x)/2)*xm_per_pix\n",
    "print(left_center_x,right_center_x)\n",
    "print('The car is', offset_cr, 'm from the center of line.')"
   ]
  },
  {
   "cell_type": "markdown",
   "metadata": {},
   "source": [
    "### 2.8 Plot the result back down onto the road"
   ]
  },
  {
   "cell_type": "code",
   "execution_count": 41,
   "metadata": {
    "collapsed": false
   },
   "outputs": [
    {
     "data": {
      "text/plain": [
       "<matplotlib.image.AxesImage at 0x119e659e8>"
      ]
     },
     "execution_count": 41,
     "metadata": {},
     "output_type": "execute_result"
    }
   ],
   "source": [
    "# Create an image to draw the lines on\n",
    "warp_zero = np.zeros_like(unwarped).astype(np.uint8)\n",
    "color_warp = np.dstack((warp_zero, warp_zero, warp_zero))\n",
    "\n",
    "# Recast the x and y points into usable format for cv2.fillPoly()\n",
    "pts_left = np.array([np.transpose(np.vstack([left_fitx, ploty]))])\n",
    "pts_right = np.array([np.flipud(np.transpose(np.vstack([right_fitx, ploty])))])\n",
    "pts = np.hstack((pts_left, pts_right))\n",
    "\n",
    "# Draw the lane onto the warped blank image\n",
    "cv2.fillPoly(color_warp, np.int_([pts]), (0,255,0))\n",
    "\n",
    "# Warp the blank back to original image space using inverse perspective matrix (Minv)\n",
    "Minv = np.linalg.inv(M)\n",
    "newwarp = cv2.warpPerspective(color_warp, Minv, (image.shape[1], image.shape[0])) \n",
    "# Combine the result with the original image (undistorted)\n",
    "undist_img, roi = img_undistort(image, mtx, dist)\n",
    "result = cv2.addWeighted(undist_img, 0.7, newwarp, 0.3, 0)\n",
    "x,y,w,h = roi\n",
    "result = result[y:y+h, x:x+w]\n",
    "cv2.putText(result, \n",
    "            'Radius of Curvature = {} (m)'.format(int((left_curverad+right_curverad)/2)), \n",
    "            org = (30,50), \n",
    "            fontFace = cv2.FONT_HERSHEY_SIMPLEX, \n",
    "            fontScale = 2, \n",
    "            color = (255,255,255), \n",
    "            thickness = 2)\n",
    "cv2.putText(result, \n",
    "            'Vehicle is {:03.2f}m left of center'.format(offset_cr), \n",
    "            org = (30,100), \n",
    "            fontFace = cv2.FONT_HERSHEY_SIMPLEX, \n",
    "            fontScale = 2, \n",
    "            color = (255,255,255), \n",
    "            thickness = 2)\n",
    "plt.imshow(result)"
   ]
  },
  {
   "cell_type": "markdown",
   "metadata": {},
   "source": [
    "## III. Pipeline (video)"
   ]
  },
  {
   "cell_type": "markdown",
   "metadata": {},
   "source": [
    "### 3.1 Wrap up all steps above"
   ]
  },
  {
   "cell_type": "code",
   "execution_count": 42,
   "metadata": {
    "collapsed": true
   },
   "outputs": [],
   "source": [
    "def pipline(image, mtx, dist, M, \n",
    "            ksize=3, \n",
    "            x_thresh=(0, 255), \n",
    "            y_thresh=(0, 255), \n",
    "            m_thresh=(40, 255), \n",
    "            d_thresh=(np.pi/20, np.pi/2-np.pi/20), \n",
    "            s_thresh=(10, 255), \n",
    "            nwindows = 9, \n",
    "            margin = 100, \n",
    "            minpix = 10, \n",
    "            left_fit = None, \n",
    "            right_fit = None, \n",
    "            ym_per_pix = 30/720, \n",
    "            xm_per_pix = 3.6/640, \n",
    "            decay_factor = 0.9):\n",
    "    bin_img = combine_threshold(image, \n",
    "                            ksize=ksize, \n",
    "                            x_thresh=x_thresh, \n",
    "                            y_thresh=y_thresh, \n",
    "                            m_thresh=m_thresh, \n",
    "                            d_thresh=d_thresh, \n",
    "                            s_thresh=s_thresh)\n",
    "    undist, roi = img_undistort(bin_img, mtx, dist)\n",
    "    unwarped = img_unwarp(undist, M, (undist.shape[1],undist.shape[0]))\n",
    "    unwarped = cv2.medianBlur(unwarped,5)\n",
    "    retval, unwarped = cv2.threshold(unwarped, 100, 255, cv2.THRESH_BINARY)\n",
    "    # Line detection\n",
    "    if left_fit == None or right_fit == None:\n",
    "        histogram = np.sum(unwarped[np.int32(unwarped.shape[0]/2):,:], axis=0)\n",
    "        midpoint = np.int(histogram.shape[0]/2)\n",
    "        leftx_base = np.argmax(histogram[:midpoint])\n",
    "        rightx_base = np.argmax(histogram[midpoint:]) + midpoint\n",
    "        # Set height of windows\n",
    "        window_height = np.int(unwarped.shape[0]/nwindows)\n",
    "        # Identify the x and y positions of all nonzero pixels in the image\n",
    "        nonzero = unwarped.nonzero()\n",
    "        nonzeroy = np.array(nonzero[0])\n",
    "        nonzerox = np.array(nonzero[1])\n",
    "        # Current positions to be updated for each window\n",
    "        leftx_current = leftx_base\n",
    "        rightx_current = rightx_base\n",
    "        # Create empty lists to receive left and right lane pixel indices\n",
    "        left_lane_inds = []\n",
    "        right_lane_inds = []\n",
    "        # Step through the windows one by one\n",
    "        for window in range(nwindows):\n",
    "            # Identify window boundaries in x and y (and right and left)\n",
    "            win_y_low = unwarped.shape[0] - (window+1)*window_height\n",
    "            win_y_high = unwarped.shape[0] - window*window_height\n",
    "            win_xleft_low = leftx_current - margin\n",
    "            win_xleft_high = leftx_current + margin\n",
    "            win_xright_low = rightx_current - margin\n",
    "            win_xright_high = rightx_current + margin\n",
    "            # Identify the nonzero pixels in x and y within the window\n",
    "            good_left_inds = ((nonzeroy >= win_y_low) & \n",
    "                              (nonzeroy < win_y_high) & \n",
    "                              (nonzerox >= win_xleft_low) & \n",
    "                              (nonzerox < win_xleft_high)).nonzero()[0]\n",
    "            good_right_inds = ((nonzeroy >= win_y_low) & \n",
    "                               (nonzeroy < win_y_high) & \n",
    "                               (nonzerox >= win_xright_low) & \n",
    "                               (nonzerox < win_xright_high)).nonzero()[0]\n",
    "            # Append these indices to the lists\n",
    "            left_lane_inds.append(good_left_inds)\n",
    "            right_lane_inds.append(good_right_inds)\n",
    "            # If you found > minpix pixels, recenter next window on their mean position\n",
    "            if len(good_left_inds) > minpix:\n",
    "                leftx_current = np.int(np.mean(nonzerox[good_left_inds]))\n",
    "            if len(good_right_inds) > minpix:        \n",
    "                rightx_current = np.int(np.mean(nonzerox[good_right_inds]))\n",
    "        # Concatenate the arrays of indices\n",
    "        left_lane_inds = np.concatenate(left_lane_inds)\n",
    "        right_lane_inds = np.concatenate(right_lane_inds)\n",
    "    else:\n",
    "        # Assume you now have a new warped binary image \n",
    "        # from the next frame of video (also called \"binary_warped\")\n",
    "        # It's now much easier to find line pixels!\n",
    "        nonzero = unwarped.nonzero()\n",
    "        nonzeroy = np.array(nonzero[0])\n",
    "        nonzerox = np.array(nonzero[1])\n",
    "        left_lane_inds = ((nonzerox > (left_fit[0]*(nonzeroy**2) + left_fit[1]*nonzeroy + left_fit[2] - margin)) & \n",
    "                          (nonzerox < (left_fit[0]*(nonzeroy**2) + left_fit[1]*nonzeroy + left_fit[2] + margin))) \n",
    "        right_lane_inds = ((nonzerox > (right_fit[0]*(nonzeroy**2) + right_fit[1]*nonzeroy + right_fit[2] - margin)) & \n",
    "                           (nonzerox < (right_fit[0]*(nonzeroy**2) + right_fit[1]*nonzeroy + right_fit[2] + margin)))  \n",
    "\n",
    "    # Extract left and right line pixel positions\n",
    "    leftx = nonzerox[left_lane_inds]\n",
    "    lefty = nonzeroy[left_lane_inds] \n",
    "    rightx = nonzerox[right_lane_inds]\n",
    "    righty = nonzeroy[right_lane_inds]\n",
    "    # Fit a second order polynomial to each\n",
    "    if len(leftx) > minpix*5:\n",
    "        if left_fit != None:\n",
    "            left_fit = np.polyfit(lefty, leftx, 2)*(1-decay_factor) + left_fit*decay_factor\n",
    "        else:\n",
    "            left_fit = np.polyfit(lefty, leftx, 2)\n",
    "    if len(rightx) > minpix*5:\n",
    "        if right_fit != None:\n",
    "            right_fit = np.polyfit(righty, rightx, 2)*(1-decay_factor) + right_fit*decay_factor\n",
    "        else:\n",
    "            right_fit = np.polyfit(righty, rightx, 2)\n",
    "    # Generate x and y values for plotting\n",
    "    ploty = np.linspace(0, unwarped.shape[0]-1, unwarped.shape[0] )\n",
    "    left_fitx = left_fit[0]*ploty**2 + left_fit[1]*ploty + left_fit[2]\n",
    "    right_fitx = right_fit[0]*ploty**2 + right_fit[1]*ploty + right_fit[2]\n",
    "    # Fit new polynomials to x,y in world space\n",
    "    left_fit_cr = np.polyfit(ploty*ym_per_pix, left_fitx*xm_per_pix, 2)\n",
    "    right_fit_cr = np.polyfit(ploty*ym_per_pix, right_fitx*xm_per_pix, 2)\n",
    "    # Calculate the new radii of curvature\n",
    "    y_eval = np.max(ploty)\n",
    "    left_curverad = ((1 + (2*left_fit_cr[0]*y_eval*ym_per_pix + left_fit_cr[1])**2)**1.5) / np.absolute(2*left_fit_cr[0])\n",
    "    right_curverad = ((1 + (2*right_fit_cr[0]*y_eval*ym_per_pix + right_fit_cr[1])**2)**1.5) / np.absolute(2*right_fit_cr[0])\n",
    "    # Calculate the position of the left line and right line at the bottom of the image\n",
    "    left_center_x = left_fit[0]*unwarped.shape[0]**2 + left_fit[1]*unwarped.shape[0] + left_fit[2]\n",
    "    right_center_x = right_fit[0]*unwarped.shape[0]**2 + right_fit[1]*unwarped.shape[0] + right_fit[2]\n",
    "    # conversions from pixels space to meters and calculate the offset from the center\n",
    "    offset_cr = (unwarped.shape[1]/2-(left_center_x+right_center_x)/2)*xm_per_pix\n",
    "    # Create an image to draw the lines on\n",
    "    warp_zero = np.zeros_like(unwarped).astype(np.uint8)\n",
    "    color_warp = np.dstack((warp_zero, warp_zero, warp_zero))\n",
    "\n",
    "    # Recast the x and y points into usable format for cv2.fillPoly()\n",
    "    pts_left = np.array([np.transpose(np.vstack([left_fitx, ploty]))])\n",
    "    pts_right = np.array([np.flipud(np.transpose(np.vstack([right_fitx, ploty])))])\n",
    "    pts = np.hstack((pts_left, pts_right))\n",
    "\n",
    "    # Draw the lane onto the warped blank image\n",
    "    cv2.fillPoly(color_warp, np.int_([pts]), (0,255,0))\n",
    "\n",
    "    # Warp the blank back to original image space using inverse perspective matrix (Minv)\n",
    "    Minv = np.linalg.inv(M)\n",
    "    newwarp = cv2.warpPerspective(color_warp, Minv, (image.shape[1], image.shape[0])) \n",
    "    # Combine the result with the original image (undistorted)\n",
    "    undist_img, roi = img_undistort(image, mtx, dist)\n",
    "    result = cv2.addWeighted(undist_img, 0.7, newwarp, 0.3, 0)\n",
    "    x,y,w,h = roi\n",
    "    result = result[y:y+h, x:x+w]\n",
    "    cv2.putText(result, \n",
    "                'Radius of Curvature = {} (m)'.format(int((left_curverad+right_curverad)/2)), \n",
    "                org = (30,50), \n",
    "                fontFace = cv2.FONT_HERSHEY_SIMPLEX, \n",
    "                fontScale = 2, \n",
    "                color = (255,255,255), \n",
    "                thickness = 2)\n",
    "    cv2.putText(result, \n",
    "                'Vehicle is {:03.2f}m right of center'.format(offset_cr), \n",
    "                org = (30,100), \n",
    "                fontFace = cv2.FONT_HERSHEY_SIMPLEX, \n",
    "                fontScale = 2, \n",
    "                color = (255,255,255), \n",
    "                thickness = 2)\n",
    "    return result, left_fit, right_fit"
   ]
  },
  {
   "cell_type": "code",
   "execution_count": 43,
   "metadata": {
    "collapsed": false
   },
   "outputs": [
    {
     "name": "stderr",
     "output_type": "stream",
     "text": [
      "/Users/libaoling/anaconda/envs/OpenCV-py3-cv3/lib/python3.5/site-packages/ipykernel/__main__.py:28: FutureWarning: comparison to `None` will result in an elementwise object comparison in the future.\n",
      "/Users/libaoling/anaconda/envs/OpenCV-py3-cv3/lib/python3.5/site-packages/ipykernel/__main__.py:93: FutureWarning: comparison to `None` will result in an elementwise object comparison in the future.\n",
      "/Users/libaoling/anaconda/envs/OpenCV-py3-cv3/lib/python3.5/site-packages/ipykernel/__main__.py:98: FutureWarning: comparison to `None` will result in an elementwise object comparison in the future.\n"
     ]
    }
   ],
   "source": [
    "cap = cv2.VideoCapture('./project_video.mp4')\n",
    "\n",
    "fourcc = cv2.VideoWriter_fourcc('m', 'p', '4', 'v') # note the lower case\n",
    "out = cv2.VideoWriter('./project_output.avi',fourcc, 30, (1200,617))\n",
    "\n",
    "counter = 1\n",
    "left_fit = None\n",
    "right_fit = None\n",
    "while(True):\n",
    "    # Capture frame-by-frame\n",
    "    ret, frame = cap.read()\n",
    "    if ret == True:\n",
    "        #cv2.imwrite('../clips/{}.jpg'.format(counter),frame)\n",
    "        result, left_fit, right_fit = pipline(frame, mtx, dist, M, \n",
    "                                                ksize=3, \n",
    "                                                x_thresh=(0, 255), \n",
    "                                                y_thresh=(0, 255), \n",
    "                                                m_thresh=(30, 255), \n",
    "                                                d_thresh=(np.pi/20, np.pi/2-np.pi/20), \n",
    "                                                s_thresh=(30, 255), \n",
    "                                                nwindows = 9, \n",
    "                                                margin = 80, \n",
    "                                                minpix = 20, \n",
    "                                                left_fit = left_fit,\n",
    "                                                right_fit = right_fit, \n",
    "                                                ym_per_pix = 50/720, \n",
    "                                                xm_per_pix = 3.6/640, \n",
    "                                                decay_factor = 0.9)\n",
    "        #cv2.imwrite('../clips/result{}.jpg'.format(counter),result)\n",
    "        out.write(result)\n",
    "        counter += 1\n",
    "        # Display the resulting frame\n",
    "        cv2.imshow('result',result)\n",
    "        if cv2.waitKey(1) & 0xFF == ord('q'):\n",
    "            break\n",
    "    else:\n",
    "        break\n",
    "\n",
    "# When everything done, release the capture\n",
    "cap.release()\n",
    "out.release()\n",
    "cv2.destroyAllWindows()"
   ]
  },
  {
   "cell_type": "code",
   "execution_count": null,
   "metadata": {
    "collapsed": true
   },
   "outputs": [],
   "source": []
  }
 ],
 "metadata": {
  "anaconda-cloud": {},
  "celltoolbar": "Raw Cell Format",
  "kernelspec": {
   "display_name": "Python 3",
   "language": "python",
   "name": "python3"
  },
  "language_info": {
   "codemirror_mode": {
    "name": "ipython",
    "version": 3
   },
   "file_extension": ".py",
   "mimetype": "text/x-python",
   "name": "python",
   "nbconvert_exporter": "python",
   "pygments_lexer": "ipython3",
   "version": "3.5.1"
  }
 },
 "nbformat": 4,
 "nbformat_minor": 1
}
